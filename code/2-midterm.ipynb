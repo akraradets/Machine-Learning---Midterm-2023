{
 "cells": [
  {
   "cell_type": "markdown",
   "metadata": {},
   "source": [
    "## Task 2 (1)\n",
    "print your student id, full and name below.\n",
    "\n",
    "<sub>Expected answer</sub>\n",
    "```\n",
    "st12xxxx\n",
    "Firstname Lastname\n",
    "```"
   ]
  },
  {
   "cell_type": "code",
   "execution_count": null,
   "metadata": {},
   "outputs": [],
   "source": [
    "# Your code here"
   ]
  },
  {
   "cell_type": "markdown",
   "metadata": {},
   "source": [
    "## Task 3 (1)\n",
    "\n",
    "Continue from the Task 1, show your current version of numpy, pandas, and sklearn"
   ]
  },
  {
   "cell_type": "code",
   "execution_count": null,
   "metadata": {},
   "outputs": [],
   "source": [
    "import numpy as np\n",
    "import pandas as pd\n",
    "import sklearn\n",
    "import matplotlib as mpl\n",
    "import matplotlib.pyplot as plt\n",
    "\n",
    "print(f\"     numpy version: {np.__version__}\")\n",
    "print(f\"    pandas version: {pd.__version__}\")\n",
    "print(f\"   sklearn version: {sklearn.__version__}\")\n",
    "print(f\"matplotlib version: {mpl.__version__}\")"
   ]
  },
  {
   "cell_type": "markdown",
   "metadata": {},
   "source": [
    "## Task 4 (1)\n",
    "\n",
    "Print a url to your `ait-ml-2023-midterm` image from `DockerHub`.\n",
    "\n",
    "<sub>Expected answer</sub>\n",
    "```\n",
    "https://hub.docker.com/repository/xxxxxxxxxxxx\n",
    "```"
   ]
  },
  {
   "cell_type": "code",
   "execution_count": null,
   "metadata": {},
   "outputs": [],
   "source": [
    "# Your code here"
   ]
  },
  {
   "cell_type": "markdown",
   "metadata": {},
   "source": [
    "## Task 5 (1)\n",
    "So far so good?\n",
    "\n",
    "In the folder `dataset`, there is a file `data.csv`.\n",
    "Load the file into a `Pandas` dataframe.\n",
    "\n",
    "Take a look at the data.\n",
    "It supposes to **4** columns [y,x1,x2,x3] with 200 rows."
   ]
  },
  {
   "cell_type": "code",
   "execution_count": null,
   "metadata": {},
   "outputs": [],
   "source": [
    "# Your code"
   ]
  },
  {
   "cell_type": "markdown",
   "metadata": {},
   "source": [
    "## Task 6 (1)\n",
    "\n",
    "Answer the following questions\n",
    "\n",
    "1. What is the range of each columns (min, max)?\n",
    "- Answer\n",
    "2. Based on the value of each columns, which one is Discrete and which one is Category?\n",
    "- Answer\n",
    "3. Based on the range of `y`, how many classes are there? and what are they?\n",
    "- Answer"
   ]
  },
  {
   "cell_type": "markdown",
   "metadata": {},
   "source": [
    "## Task 7 (1)\n",
    "\n",
    "Plot three scatter plots.\n",
    "- x1, x2 and color as y\n",
    "- x1, x3 and color as y\n",
    "- x2, x3 and color as y"
   ]
  },
  {
   "cell_type": "code",
   "execution_count": null,
   "metadata": {},
   "outputs": [],
   "source": [
    "# Your code"
   ]
  },
  {
   "cell_type": "markdown",
   "metadata": {},
   "source": [
    "## Task 8 (10)\n",
    "\n",
    "Perform Exploratory Data Analysis (EDA) on the Dataset.\n",
    "\n",
    "At the end, report which feature and classifier is best. \n",
    "(explain as best as you can. short answer get 0.)\n"
   ]
  },
  {
   "cell_type": "code",
   "execution_count": null,
   "metadata": {},
   "outputs": [],
   "source": [
    "# Your code"
   ]
  },
  {
   "cell_type": "markdown",
   "metadata": {},
   "source": [
    "Your report"
   ]
  },
  {
   "cell_type": "markdown",
   "metadata": {},
   "source": [
    "## Task 9 (10)\n",
    "\n",
    "Perform Preprocessing and Data splitting (80:20).\n",
    "\n",
    "Argue your choice. (No explanation, no score.)\n",
    "\n",
    "*<sub>Becareful with the data leakage and imbalance data when split.</sub>*"
   ]
  },
  {
   "cell_type": "code",
   "execution_count": null,
   "metadata": {},
   "outputs": [],
   "source": [
    "# Your code"
   ]
  },
  {
   "cell_type": "markdown",
   "metadata": {},
   "source": [
    "## Task 10 (10)\n",
    "\n",
    "Perform model selection to find the best model that suited this dataset.\n",
    "\n",
    "To save you from insanity, you don't need to perform `GridSearch`.\n",
    "\n",
    "Validate the result using accuracy, precision-recall, f1-score, and confusion matrix.\n",
    "\n",
    "Explain the result."
   ]
  },
  {
   "cell_type": "code",
   "execution_count": null,
   "metadata": {},
   "outputs": [],
   "source": [
    "# Model to train. You can add more if you want.\n",
    "from sklearn.linear_model import LogisticRegression\n",
    "from sklearn.naive_bayes import GaussianNB\n",
    "from sklearn.svm import SVC\n",
    "from sklearn.ensemble import RandomForestClassifier"
   ]
  },
  {
   "cell_type": "code",
   "execution_count": null,
   "metadata": {},
   "outputs": [],
   "source": [
    "# Your code"
   ]
  },
  {
   "cell_type": "markdown",
   "metadata": {},
   "source": [
    "## Last Task (5)\n",
    "\n",
    "- Export the file to PDF (4)\n",
    "- Name the PDF using this format `<st12xxxx>-midterm.pdf` (1).\n",
    "- Submit the PDF to the Moodle platform.\n",
    "\n"
   ]
  }
 ],
 "metadata": {
  "kernelspec": {
   "display_name": "Python 3",
   "language": "python",
   "name": "python3"
  },
  "language_info": {
   "codemirror_mode": {
    "name": "ipython",
    "version": 3
   },
   "file_extension": ".py",
   "mimetype": "text/x-python",
   "name": "python",
   "nbconvert_exporter": "python",
   "pygments_lexer": "ipython3",
   "version": "3.11.5"
  },
  "orig_nbformat": 4
 },
 "nbformat": 4,
 "nbformat_minor": 2
}
